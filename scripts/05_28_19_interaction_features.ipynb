{
 "cells": [
  {
   "cell_type": "code",
   "execution_count": 2,
   "metadata": {},
   "outputs": [],
   "source": [
    "import numpy as np\n",
    "import pandas as pd"
   ]
  },
  {
   "cell_type": "code",
   "execution_count": 3,
   "metadata": {},
   "outputs": [],
   "source": [
    "data = pd.read_excel('../data/fullParamLTO.xlsx')"
   ]
  },
  {
   "cell_type": "code",
   "execution_count": 3,
   "metadata": {},
   "outputs": [
    {
     "data": {
      "text/html": [
       "<div>\n",
       "<style scoped>\n",
       "    .dataframe tbody tr th:only-of-type {\n",
       "        vertical-align: middle;\n",
       "    }\n",
       "\n",
       "    .dataframe tbody tr th {\n",
       "        vertical-align: top;\n",
       "    }\n",
       "\n",
       "    .dataframe thead th {\n",
       "        text-align: right;\n",
       "    }\n",
       "</style>\n",
       "<table border=\"1\" class=\"dataframe\">\n",
       "  <thead>\n",
       "    <tr style=\"text-align: right;\">\n",
       "      <th></th>\n",
       "      <th>AM</th>\n",
       "      <th>CB</th>\n",
       "      <th>CNF</th>\n",
       "      <th>Binder</th>\n",
       "      <th>BinderType</th>\n",
       "      <th>Electrode Weight (mg)</th>\n",
       "      <th>Thickness (um)</th>\n",
       "      <th>Active Material Weight (mg)</th>\n",
       "      <th>Theoritical Capacity (mAh)</th>\n",
       "      <th>Porosity (%v)</th>\n",
       "      <th>Capacity (mAh/g_electrode)</th>\n",
       "    </tr>\n",
       "  </thead>\n",
       "  <tbody>\n",
       "    <tr>\n",
       "      <th>0</th>\n",
       "      <td>0.770222</td>\n",
       "      <td>0.199721</td>\n",
       "      <td>0.000000</td>\n",
       "      <td>0.030057</td>\n",
       "      <td>1</td>\n",
       "      <td>10.816667</td>\n",
       "      <td>34.666667</td>\n",
       "      <td>8.330997</td>\n",
       "      <td>1.416269</td>\n",
       "      <td>48.988694</td>\n",
       "      <td>72.323717</td>\n",
       "    </tr>\n",
       "    <tr>\n",
       "      <th>1</th>\n",
       "      <td>0.864363</td>\n",
       "      <td>0.000000</td>\n",
       "      <td>0.100045</td>\n",
       "      <td>0.035592</td>\n",
       "      <td>2</td>\n",
       "      <td>10.266667</td>\n",
       "      <td>34.333333</td>\n",
       "      <td>8.874507</td>\n",
       "      <td>1.508666</td>\n",
       "      <td>48.780666</td>\n",
       "      <td>77.158070</td>\n",
       "    </tr>\n",
       "    <tr>\n",
       "      <th>2</th>\n",
       "      <td>0.950291</td>\n",
       "      <td>0.005541</td>\n",
       "      <td>0.000000</td>\n",
       "      <td>0.044168</td>\n",
       "      <td>2</td>\n",
       "      <td>9.386667</td>\n",
       "      <td>28.000000</td>\n",
       "      <td>8.920149</td>\n",
       "      <td>1.516425</td>\n",
       "      <td>46.293032</td>\n",
       "      <td>47.540774</td>\n",
       "    </tr>\n",
       "    <tr>\n",
       "      <th>3</th>\n",
       "      <td>0.785186</td>\n",
       "      <td>0.038444</td>\n",
       "      <td>0.100006</td>\n",
       "      <td>0.076363</td>\n",
       "      <td>2</td>\n",
       "      <td>10.900000</td>\n",
       "      <td>37.666667</td>\n",
       "      <td>8.558680</td>\n",
       "      <td>1.454976</td>\n",
       "      <td>44.949558</td>\n",
       "      <td>74.461161</td>\n",
       "    </tr>\n",
       "    <tr>\n",
       "      <th>4</th>\n",
       "      <td>0.842186</td>\n",
       "      <td>0.080548</td>\n",
       "      <td>0.046913</td>\n",
       "      <td>0.030353</td>\n",
       "      <td>1</td>\n",
       "      <td>10.100000</td>\n",
       "      <td>31.666667</td>\n",
       "      <td>8.506220</td>\n",
       "      <td>1.446057</td>\n",
       "      <td>48.835171</td>\n",
       "      <td>92.511294</td>\n",
       "    </tr>\n",
       "  </tbody>\n",
       "</table>\n",
       "</div>"
      ],
      "text/plain": [
       "         AM        CB       CNF    Binder  BinderType  Electrode Weight (mg)  \\\n",
       "0  0.770222  0.199721  0.000000  0.030057           1              10.816667   \n",
       "1  0.864363  0.000000  0.100045  0.035592           2              10.266667   \n",
       "2  0.950291  0.005541  0.000000  0.044168           2               9.386667   \n",
       "3  0.785186  0.038444  0.100006  0.076363           2              10.900000   \n",
       "4  0.842186  0.080548  0.046913  0.030353           1              10.100000   \n",
       "\n",
       "   Thickness (um)  Active Material Weight (mg)  Theoritical Capacity (mAh)  \\\n",
       "0       34.666667                     8.330997                    1.416269   \n",
       "1       34.333333                     8.874507                    1.508666   \n",
       "2       28.000000                     8.920149                    1.516425   \n",
       "3       37.666667                     8.558680                    1.454976   \n",
       "4       31.666667                     8.506220                    1.446057   \n",
       "\n",
       "   Porosity (%v)  Capacity (mAh/g_electrode)  \n",
       "0      48.988694                   72.323717  \n",
       "1      48.780666                   77.158070  \n",
       "2      46.293032                   47.540774  \n",
       "3      44.949558                   74.461161  \n",
       "4      48.835171                   92.511294  "
      ]
     },
     "execution_count": 3,
     "metadata": {},
     "output_type": "execute_result"
    }
   ],
   "source": [
    "data.head()"
   ]
  },
  {
   "cell_type": "code",
   "execution_count": 11,
   "metadata": {},
   "outputs": [
    {
     "data": {
      "text/plain": [
       "['AM',\n",
       " 'CB',\n",
       " 'CNF',\n",
       " 'Binder',\n",
       " 'BinderType',\n",
       " 'Electrode Weight (mg)',\n",
       " 'Thickness (um)',\n",
       " 'Active Material Weight (mg)',\n",
       " 'Theoritical Capacity (mAh)',\n",
       " 'Porosity (%v)',\n",
       " 'Capacity (mAh/g_electrode)']"
      ]
     },
     "execution_count": 11,
     "metadata": {},
     "output_type": "execute_result"
    }
   ],
   "source": [
    "data.columns.tolist()"
   ]
  },
  {
   "cell_type": "code",
   "execution_count": 15,
   "metadata": {},
   "outputs": [],
   "source": [
    "new_cols = []\n",
    "new_data = pd.DataFrame([])\n",
    "for i, xi in enumerate(data.columns.tolist()):\n",
    "    \n",
    "    for xj in data.columns.tolist()[i:]:\n",
    "        new_cols.append(xi + ':' + xj)\n",
    "        new_data[xi + ':' + xj] = data[xi] * data[xj]\n",
    "        #print(\"Done with iteration {}\".format(xi + ':' + xj))\n"
   ]
  },
  {
   "cell_type": "code",
   "execution_count": 11,
   "metadata": {},
   "outputs": [],
   "source": [
    "comb_data = pd.concat([data, new_data], axis=1)"
   ]
  },
  {
   "cell_type": "code",
   "execution_count": 16,
   "metadata": {},
   "outputs": [],
   "source": [
    "def interaction_features(data):\n",
    "    \n",
    "    new_cols = []\n",
    "    new_data = pd.DataFrame([])\n",
    "    for i, xi in enumerate(data.columns.tolist()):\n",
    "\n",
    "        for xj in data.columns.tolist()[i:]:\n",
    "            new_cols.append(xi + ':' + xj)\n",
    "            new_data[xi + ':' + xj] = data[xi] * data[xj]\n",
    "            #print(\"Done with iteration {}\".format(xi + ':' + xj))\n",
    "\n",
    "        comb_data = pd.concat([data, new_data], axis=1)\n",
    "\n",
    "    return comb_data"
   ]
  },
  {
   "cell_type": "code",
   "execution_count": 17,
   "metadata": {},
   "outputs": [],
   "source": [
    "interaction_data = interaction_features(data)"
   ]
  },
  {
   "cell_type": "code",
   "execution_count": 18,
   "metadata": {},
   "outputs": [
    {
     "data": {
      "text/plain": [
       "(37, 77)"
      ]
     },
     "execution_count": 18,
     "metadata": {},
     "output_type": "execute_result"
    }
   ],
   "source": [
    "interaction_data.shape"
   ]
  },
  {
   "cell_type": "code",
   "execution_count": null,
   "metadata": {},
   "outputs": [],
   "source": []
  }
 ],
 "metadata": {
  "kernelspec": {
   "display_name": "Python 3",
   "language": "python",
   "name": "python3"
  },
  "language_info": {
   "codemirror_mode": {
    "name": "ipython",
    "version": 3
   },
   "file_extension": ".py",
   "mimetype": "text/x-python",
   "name": "python",
   "nbconvert_exporter": "python",
   "pygments_lexer": "ipython3",
   "version": "3.7.0"
  }
 },
 "nbformat": 4,
 "nbformat_minor": 2
}
