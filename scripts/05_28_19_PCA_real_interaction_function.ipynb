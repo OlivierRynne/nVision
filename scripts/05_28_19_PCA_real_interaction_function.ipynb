{
 "cells": [
  {
   "cell_type": "code",
   "execution_count": 1,
   "metadata": {},
   "outputs": [],
   "source": [
    "import numpy as np\n",
    "import pandas as pd\n",
    "import sklearn as skl\n",
    "from sklearn import preprocessing\n",
    "import matplotlib.pyplot as plt\n",
    "import seaborn as sns\n",
    "import sys"
   ]
  },
  {
   "cell_type": "code",
   "execution_count": 2,
   "metadata": {},
   "outputs": [],
   "source": [
    "sys.path.insert(0, '..\\\\nVision')"
   ]
  },
  {
   "cell_type": "code",
   "execution_count": 3,
   "metadata": {},
   "outputs": [],
   "source": [
    "import pca as pca"
   ]
  },
  {
   "cell_type": "code",
   "execution_count": 4,
   "metadata": {},
   "outputs": [],
   "source": [
    "data = pd.read_excel('../data/fullParamLTO.xlsx')"
   ]
  },
  {
   "cell_type": "code",
   "execution_count": null,
   "metadata": {},
   "outputs": [],
   "source": [
    "pca.pca_analysis(data)"
   ]
  },
  {
   "cell_type": "code",
   "execution_count": 5,
   "metadata": {},
   "outputs": [],
   "source": [
    "int_feats = pca.interaction_features(data)"
   ]
  },
  {
   "cell_type": "code",
   "execution_count": 6,
   "metadata": {},
   "outputs": [
    {
     "data": {
      "text/plain": [
       "<matplotlib.collections.PathCollection at 0x1ffddf2e710>"
      ]
     },
     "execution_count": 6,
     "metadata": {},
     "output_type": "execute_result"
    },
    {
     "data": {
      "image/png": "[encoded data removed]",
      "text/plain": [
       "<Figure size 432x288 with 1 Axes>"
      ]
     },
     "metadata": {
      "needs_background": "light"
     },
     "output_type": "display_data"
    }
   ],
   "source": [
    "plt.scatter(int_feats.iloc[0], int_feats.iloc[1], alpha=0.25)"
   ]
  },
  {
   "cell_type": "code",
   "execution_count": null,
   "metadata": {},
   "outputs": [],
   "source": [
    "sns.pairplot()"
   ]
  },
  {
   "cell_type": "code",
   "execution_count": 7,
   "metadata": {},
   "outputs": [],
   "source": [
    "scaler = preprocessing.StandardScaler().fit(int_feats)"
   ]
  },
  {
   "cell_type": "code",
   "execution_count": 8,
   "metadata": {},
   "outputs": [
    {
     "data": {
      "text/plain": [
       "StandardScaler(copy=True, with_mean=True, with_std=True)"
      ]
     },
     "execution_count": 8,
     "metadata": {},
     "output_type": "execute_result"
    }
   ],
   "source": [
    "scaler"
   ]
  },
  {
   "cell_type": "code",
   "execution_count": 9,
   "metadata": {},
   "outputs": [],
   "source": [
    "data_s = scaler.transform(int_feats)\n",
    "data_s = pd.DataFrame(data=data_s)"
   ]
  },
  {
   "cell_type": "code",
   "execution_count": 10,
   "metadata": {},
   "outputs": [
    {
     "data": {
      "text/html": [
       "<div>\n",
       "<style scoped>\n",
       "    .dataframe tbody tr th:only-of-type {\n",
       "        vertical-align: middle;\n",
       "    }\n",
       "\n",
       "    .dataframe tbody tr th {\n",
       "        vertical-align: top;\n",
       "    }\n",
       "\n",
       "    .dataframe thead th {\n",
       "        text-align: right;\n",
       "    }\n",
       "</style>\n",
       "<table border=\"1\" class=\"dataframe\">\n",
       "  <thead>\n",
       "    <tr style=\"text-align: right;\">\n",
       "      <th></th>\n",
       "      <th>0</th>\n",
       "      <th>1</th>\n",
       "      <th>2</th>\n",
       "      <th>3</th>\n",
       "      <th>4</th>\n",
       "      <th>5</th>\n",
       "      <th>6</th>\n",
       "      <th>7</th>\n",
       "      <th>8</th>\n",
       "      <th>9</th>\n",
       "      <th>...</th>\n",
       "      <th>67</th>\n",
       "      <th>68</th>\n",
       "      <th>69</th>\n",
       "      <th>70</th>\n",
       "      <th>71</th>\n",
       "      <th>72</th>\n",
       "      <th>73</th>\n",
       "      <th>74</th>\n",
       "      <th>75</th>\n",
       "      <th>76</th>\n",
       "    </tr>\n",
       "  </thead>\n",
       "  <tbody>\n",
       "    <tr>\n",
       "      <th>0</th>\n",
       "      <td>-0.882433</td>\n",
       "      <td>2.747175</td>\n",
       "      <td>-1.079856</td>\n",
       "      <td>-1.073369</td>\n",
       "      <td>-1.145644</td>\n",
       "      <td>0.593359</td>\n",
       "      <td>0.388319</td>\n",
       "      <td>-0.752339</td>\n",
       "      <td>-0.703498</td>\n",
       "      <td>-0.238389</td>\n",
       "      <td>...</td>\n",
       "      <td>-0.756084</td>\n",
       "      <td>-0.742592</td>\n",
       "      <td>-0.259706</td>\n",
       "      <td>0.134325</td>\n",
       "      <td>-0.707801</td>\n",
       "      <td>-0.258681</td>\n",
       "      <td>0.136323</td>\n",
       "      <td>-0.274141</td>\n",
       "      <td>-0.030192</td>\n",
       "      <td>0.022509</td>\n",
       "    </tr>\n",
       "    <tr>\n",
       "      <th>1</th>\n",
       "      <td>0.511685</td>\n",
       "      <td>-0.932787</td>\n",
       "      <td>1.690851</td>\n",
       "      <td>-0.955746</td>\n",
       "      <td>0.872872</td>\n",
       "      <td>-0.089350</td>\n",
       "      <td>0.365070</td>\n",
       "      <td>1.314696</td>\n",
       "      <td>1.310383</td>\n",
       "      <td>-0.242613</td>\n",
       "      <td>...</td>\n",
       "      <td>1.320781</td>\n",
       "      <td>1.340370</td>\n",
       "      <td>-0.203515</td>\n",
       "      <td>0.517981</td>\n",
       "      <td>1.314873</td>\n",
       "      <td>-0.201938</td>\n",
       "      <td>0.519967</td>\n",
       "      <td>-0.275642</td>\n",
       "      <td>0.061192</td>\n",
       "      <td>0.274493</td>\n",
       "    </tr>\n",
       "    <tr>\n",
       "      <th>2</th>\n",
       "      <td>1.784181</td>\n",
       "      <td>-0.830698</td>\n",
       "      <td>-1.079856</td>\n",
       "      <td>-0.773526</td>\n",
       "      <td>0.872872</td>\n",
       "      <td>-1.181685</td>\n",
       "      <td>-0.076659</td>\n",
       "      <td>1.488281</td>\n",
       "      <td>1.479503</td>\n",
       "      <td>-0.293133</td>\n",
       "      <td>...</td>\n",
       "      <td>1.501163</td>\n",
       "      <td>1.521282</td>\n",
       "      <td>-0.248785</td>\n",
       "      <td>-0.698488</td>\n",
       "      <td>1.490548</td>\n",
       "      <td>-0.247652</td>\n",
       "      <td>-0.696462</td>\n",
       "      <td>-0.293106</td>\n",
       "      <td>-0.585775</td>\n",
       "      <td>-1.013325</td>\n",
       "    </tr>\n",
       "    <tr>\n",
       "      <th>3</th>\n",
       "      <td>-0.660831</td>\n",
       "      <td>-0.224432</td>\n",
       "      <td>1.689790</td>\n",
       "      <td>-0.089459</td>\n",
       "      <td>0.872872</td>\n",
       "      <td>0.696800</td>\n",
       "      <td>0.597559</td>\n",
       "      <td>0.113569</td>\n",
       "      <td>0.140142</td>\n",
       "      <td>-0.320416</td>\n",
       "      <td>...</td>\n",
       "      <td>0.097971</td>\n",
       "      <td>0.113970</td>\n",
       "      <td>-0.312804</td>\n",
       "      <td>0.296543</td>\n",
       "      <td>0.123969</td>\n",
       "      <td>-0.312301</td>\n",
       "      <td>0.298536</td>\n",
       "      <td>-0.302158</td>\n",
       "      <td>-0.111341</td>\n",
       "      <td>0.131911</td>\n",
       "    </tr>\n",
       "    <tr>\n",
       "      <th>4</th>\n",
       "      <td>0.183266</td>\n",
       "      <td>0.551340</td>\n",
       "      <td>0.219396</td>\n",
       "      <td>-1.067064</td>\n",
       "      <td>-1.145644</td>\n",
       "      <td>-0.296232</td>\n",
       "      <td>0.179079</td>\n",
       "      <td>-0.085943</td>\n",
       "      <td>-0.054239</td>\n",
       "      <td>-0.241506</td>\n",
       "      <td>...</td>\n",
       "      <td>-0.100851</td>\n",
       "      <td>-0.085436</td>\n",
       "      <td>-0.243202</td>\n",
       "      <td>0.994834</td>\n",
       "      <td>-0.069665</td>\n",
       "      <td>-0.242015</td>\n",
       "      <td>0.996804</td>\n",
       "      <td>-0.275250</td>\n",
       "      <td>0.373283</td>\n",
       "      <td>1.182836</td>\n",
       "    </tr>\n",
       "  </tbody>\n",
       "</table>\n",
       "<p>5 rows × 77 columns</p>\n",
       "</div>"
      ],
      "text/plain": [
       "         0         1         2         3         4         5         6   \\\n",
       "0 -0.882433  2.747175 -1.079856 -1.073369 -1.145644  0.593359  0.388319   \n",
       "1  0.511685 -0.932787  1.690851 -0.955746  0.872872 -0.089350  0.365070   \n",
       "2  1.784181 -0.830698 -1.079856 -0.773526  0.872872 -1.181685 -0.076659   \n",
       "3 -0.660831 -0.224432  1.689790 -0.089459  0.872872  0.696800  0.597559   \n",
       "4  0.183266  0.551340  0.219396 -1.067064 -1.145644 -0.296232  0.179079   \n",
       "\n",
       "         7         8         9   ...        67        68        69        70  \\\n",
       "0 -0.752339 -0.703498 -0.238389  ... -0.756084 -0.742592 -0.259706  0.134325   \n",
       "1  1.314696  1.310383 -0.242613  ...  1.320781  1.340370 -0.203515  0.517981   \n",
       "2  1.488281  1.479503 -0.293133  ...  1.501163  1.521282 -0.248785 -0.698488   \n",
       "3  0.113569  0.140142 -0.320416  ...  0.097971  0.113970 -0.312804  0.296543   \n",
       "4 -0.085943 -0.054239 -0.241506  ... -0.100851 -0.085436 -0.243202  0.994834   \n",
       "\n",
       "         71        72        73        74        75        76  \n",
       "0 -0.707801 -0.258681  0.136323 -0.274141 -0.030192  0.022509  \n",
       "1  1.314873 -0.201938  0.519967 -0.275642  0.061192  0.274493  \n",
       "2  1.490548 -0.247652 -0.696462 -0.293106 -0.585775 -1.013325  \n",
       "3  0.123969 -0.312301  0.298536 -0.302158 -0.111341  0.131911  \n",
       "4 -0.069665 -0.242015  0.996804 -0.275250  0.373283  1.182836  \n",
       "\n",
       "[5 rows x 77 columns]"
      ]
     },
     "execution_count": 10,
     "metadata": {},
     "output_type": "execute_result"
    }
   ],
   "source": [
    "data_s.head()"
   ]
  },
  {
   "cell_type": "code",
   "execution_count": null,
   "metadata": {},
   "outputs": [],
   "source": [
    "sns.pairplot(data_s)"
   ]
  },
  {
   "cell_type": "code",
   "execution_count": 11,
   "metadata": {},
   "outputs": [],
   "source": [
    "from sklearn.decomposition import PCA"
   ]
  },
  {
   "cell_type": "code",
   "execution_count": 16,
   "metadata": {},
   "outputs": [],
   "source": [
    "pca = PCA(n_components=37)\n",
    "data_pca= pca.fit(data_s).transform(data_s)\n",
    "data_pca = pd.DataFrame(data=data_pca)"
   ]
  },
  {
   "cell_type": "code",
   "execution_count": null,
   "metadata": {},
   "outputs": [],
   "source": [
    "sns.pairplot(data_pca)"
   ]
  },
  {
   "cell_type": "code",
   "execution_count": 17,
   "metadata": {},
   "outputs": [
    {
     "data": {
      "text/plain": [
       "array([2.86085058e-01, 2.13681479e-01, 1.61315608e-01, 1.29562578e-01,\n",
       "       8.82704808e-02, 5.72615275e-02, 2.58872024e-02, 1.17649562e-02,\n",
       "       7.06653215e-03, 6.36077123e-03, 3.39387418e-03, 2.20748988e-03,\n",
       "       1.70168044e-03, 1.29365149e-03, 1.14663818e-03, 9.21024484e-04,\n",
       "       5.70059111e-04, 5.14101512e-04, 3.79983486e-04, 2.08363745e-04,\n",
       "       1.71756422e-04, 9.17481318e-05, 5.58896480e-05, 4.00069283e-05,\n",
       "       1.55162199e-05, 1.20177697e-05, 7.59396685e-06, 4.55147674e-06,\n",
       "       3.27997285e-06, 2.16370226e-06, 9.34659721e-07, 5.88387451e-07,\n",
       "       4.65244084e-07, 3.24975111e-07, 7.46039415e-08, 2.81197337e-08,\n",
       "       1.97405767e-33])"
      ]
     },
     "execution_count": 17,
     "metadata": {},
     "output_type": "execute_result"
    }
   ],
   "source": [
    "pca.explained_variance_ratio_"
   ]
  },
  {
   "cell_type": "code",
   "execution_count": 18,
   "metadata": {},
   "outputs": [
    {
     "data": {
      "text/plain": [
       "[<matplotlib.lines.Line2D at 0x1ffe06034e0>]"
      ]
     },
     "execution_count": 18,
     "metadata": {},
     "output_type": "execute_result"
    },
    {
     "data": {
      "image/png": "[encoded data removed]",
      "text/plain": [
       "<Figure size 432x288 with 1 Axes>"
      ]
     },
     "metadata": {
      "needs_background": "light"
     },
     "output_type": "display_data"
    }
   ],
   "source": [
    "plt.plot(np.cumsum(pca.explained_variance_ratio_))"
   ]
  },
  {
   "cell_type": "code",
   "execution_count": null,
   "metadata": {},
   "outputs": [],
   "source": [
    "np.cumsum(pca.explained_variance_ratio_)"
   ]
  },
  {
   "cell_type": "code",
   "execution_count": 24,
   "metadata": {},
   "outputs": [],
   "source": [
    "comps = pd.DataFrame(pca.components_)"
   ]
  },
  {
   "cell_type": "code",
   "execution_count": 26,
   "metadata": {},
   "outputs": [],
   "source": [
    "comps;"
   ]
  },
  {
   "cell_type": "code",
   "execution_count": 52,
   "metadata": {},
   "outputs": [
    {
     "name": "stderr",
     "output_type": "stream",
     "text": [
      "c:\\users\\tbrau\\miniconda3\\envs\\ecshackweek\\lib\\site-packages\\ipykernel_launcher.py:1: FutureWarning: \n",
      "The current behaviour of 'Series.argmax' is deprecated, use 'idxmax'\n",
      "instead.\n",
      "The behavior of 'argmax' will be corrected to return the positional\n",
      "maximum in the future. For now, use 'series.values.argmax' or\n",
      "'np.argmax(np.array(values))' to get the position of the maximum\n",
      "row.\n",
      "  \"\"\"Entry point for launching an IPython kernel.\n"
     ]
    }
   ],
   "source": [
    "np.abs(comps[0]).argmax();"
   ]
  },
  {
   "cell_type": "code",
   "execution_count": 60,
   "metadata": {},
   "outputs": [],
   "source": [
    "order = (-np.abs(comps[0])).argsort(axis=-1, kind='quicksort', order=None)"
   ]
  },
  {
   "cell_type": "code",
   "execution_count": 63,
   "metadata": {},
   "outputs": [
    {
     "name": "stdout",
     "output_type": "stream",
     "text": [
      "CNF:Thickness (um)\n",
      "CB:Binder\n",
      "CB\n",
      "CB:Electrode Weight (mg)\n",
      "CB:Capacity (mAh/g_electrode)\n",
      "AM:BinderType\n",
      "CB:Porosity (%v)\n",
      "AM:Active Material Weight (mg)\n",
      "AM:Capacity (mAh/g_electrode)\n",
      "CNF\n",
      "CNF:Binder\n",
      "AM:Binder\n",
      "Thickness (um)\n",
      "CB:Thickness (um)\n",
      "CNF:BinderType\n",
      "CNF:CNF\n",
      "CB:Theoritical Capacity (mAh)\n",
      "BinderType\n",
      "CB:BinderType\n",
      "AM:AM\n",
      "AM:Porosity (%v)\n",
      "AM\n",
      "Electrode Weight (mg)\n",
      "AM:Theoritical Capacity (mAh)\n",
      "AM:CB\n",
      "Active Material Weight (mg)\n",
      "CB:Active Material Weight (mg)\n",
      "CB:CNF\n",
      "Binder\n",
      "Capacity (mAh/g_electrode)\n",
      "Theoritical Capacity (mAh)\n",
      "Porosity (%v)\n",
      "AM:Electrode Weight (mg)\n",
      "AM:CNF\n",
      "CNF:Electrode Weight (mg)\n",
      "AM:Thickness (um)\n",
      "CB:CB\n"
     ]
    }
   ],
   "source": [
    "for feat in int_feats.columns[order]:\n",
    "    print(feat)"
   ]
  },
  {
   "cell_type": "code",
   "execution_count": 19,
   "metadata": {},
   "outputs": [],
   "source": [
    "from matplotlib import cm"
   ]
  },
  {
   "cell_type": "code",
   "execution_count": 23,
   "metadata": {},
   "outputs": [
    {
     "data": {
      "text/plain": [
       "<matplotlib.collections.PathCollection at 0x1ffe059bb38>"
      ]
     },
     "execution_count": 23,
     "metadata": {},
     "output_type": "execute_result"
    },
    {
     "data": {
      "image/png": "[encoded data removed]",
      "text/plain": [
       "<Figure size 360x360 with 1 Axes>"
      ]
     },
     "metadata": {
      "needs_background": "light"
     },
     "output_type": "display_data"
    }
   ],
   "source": [
    "fig, ax = plt.subplots(figsize=(5,5))\n",
    "ax.scatter(data_pca[0], data_pca[1], c=data_pca[2], cmap=cm.Blues, alpha=0.8, edgecolor='k')\n",
    "#ax.set_xlim([-7,7])\n",
    "#ax.set_ylim([-7,7])"
   ]
  },
  {
   "cell_type": "code",
   "execution_count": null,
   "metadata": {},
   "outputs": [],
   "source": []
  }
 ],
 "metadata": {
  "kernelspec": {
   "display_name": "Python 3",
   "language": "python",
   "name": "python3"
  },
  "language_info": {
   "codemirror_mode": {
    "name": "ipython",
    "version": 3
   },
   "file_extension": ".py",
   "mimetype": "text/x-python",
   "name": "python",
   "nbconvert_exporter": "python",
   "pygments_lexer": "ipython3",
   "version": "3.7.0"
  }
 },
 "nbformat": 4,
 "nbformat_minor": 4
}
