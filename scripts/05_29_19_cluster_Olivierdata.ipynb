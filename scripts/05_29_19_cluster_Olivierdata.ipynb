{
 "cells": [
  {
   "cell_type": "code",
   "execution_count": 1,
   "metadata": {},
   "outputs": [],
   "source": [
    "import numpy as np\n",
    "import pandas as pd\n",
    "from nVision import pca\n",
    "import matplotlib.pyplot as plt"
   ]
  },
  {
   "cell_type": "markdown",
   "metadata": {
    "slideshow": {
     "slide_type": "slide"
    }
   },
   "source": [
    "Here we use our pca package to analysis the battery testing data from Olivier as an exmple. The data set contains 11 features with 37 datapoints for each feature: "
   ]
  },
  {
   "cell_type": "code",
   "execution_count": 2,
   "metadata": {
    "slideshow": {
     "slide_type": "fragment"
    }
   },
   "outputs": [
    {
     "data": {
      "text/html": [
       "<div>\n",
       "<style scoped>\n",
       "    .dataframe tbody tr th:only-of-type {\n",
       "        vertical-align: middle;\n",
       "    }\n",
       "\n",
       "    .dataframe tbody tr th {\n",
       "        vertical-align: top;\n",
       "    }\n",
       "\n",
       "    .dataframe thead th {\n",
       "        text-align: right;\n",
       "    }\n",
       "</style>\n",
       "<table border=\"1\" class=\"dataframe\">\n",
       "  <thead>\n",
       "    <tr style=\"text-align: right;\">\n",
       "      <th></th>\n",
       "      <th>AM</th>\n",
       "      <th>CB</th>\n",
       "      <th>CNF</th>\n",
       "      <th>Binder</th>\n",
       "      <th>BinderType</th>\n",
       "      <th>Electrode Weight (mg)</th>\n",
       "      <th>Thickness (um)</th>\n",
       "      <th>Active Material Weight (mg)</th>\n",
       "      <th>Theoritical Capacity (mAh)</th>\n",
       "      <th>Porosity (%v)</th>\n",
       "      <th>Capacity (mAh/g_electrode)</th>\n",
       "    </tr>\n",
       "  </thead>\n",
       "  <tbody>\n",
       "    <tr>\n",
       "      <th>0</th>\n",
       "      <td>0.770222</td>\n",
       "      <td>0.199721</td>\n",
       "      <td>0.000000</td>\n",
       "      <td>0.030057</td>\n",
       "      <td>1</td>\n",
       "      <td>10.816667</td>\n",
       "      <td>34.666667</td>\n",
       "      <td>8.330997</td>\n",
       "      <td>1.416269</td>\n",
       "      <td>48.988694</td>\n",
       "      <td>72.323717</td>\n",
       "    </tr>\n",
       "    <tr>\n",
       "      <th>1</th>\n",
       "      <td>0.864363</td>\n",
       "      <td>0.000000</td>\n",
       "      <td>0.100045</td>\n",
       "      <td>0.035592</td>\n",
       "      <td>2</td>\n",
       "      <td>10.266667</td>\n",
       "      <td>34.333333</td>\n",
       "      <td>8.874507</td>\n",
       "      <td>1.508666</td>\n",
       "      <td>48.780666</td>\n",
       "      <td>77.158070</td>\n",
       "    </tr>\n",
       "    <tr>\n",
       "      <th>2</th>\n",
       "      <td>0.950291</td>\n",
       "      <td>0.005541</td>\n",
       "      <td>0.000000</td>\n",
       "      <td>0.044168</td>\n",
       "      <td>2</td>\n",
       "      <td>9.386667</td>\n",
       "      <td>28.000000</td>\n",
       "      <td>8.920149</td>\n",
       "      <td>1.516425</td>\n",
       "      <td>46.293032</td>\n",
       "      <td>47.540774</td>\n",
       "    </tr>\n",
       "    <tr>\n",
       "      <th>3</th>\n",
       "      <td>0.785186</td>\n",
       "      <td>0.038444</td>\n",
       "      <td>0.100006</td>\n",
       "      <td>0.076363</td>\n",
       "      <td>2</td>\n",
       "      <td>10.900000</td>\n",
       "      <td>37.666667</td>\n",
       "      <td>8.558680</td>\n",
       "      <td>1.454976</td>\n",
       "      <td>44.949558</td>\n",
       "      <td>74.461161</td>\n",
       "    </tr>\n",
       "    <tr>\n",
       "      <th>4</th>\n",
       "      <td>0.842186</td>\n",
       "      <td>0.080548</td>\n",
       "      <td>0.046913</td>\n",
       "      <td>0.030353</td>\n",
       "      <td>1</td>\n",
       "      <td>10.100000</td>\n",
       "      <td>31.666667</td>\n",
       "      <td>8.506220</td>\n",
       "      <td>1.446057</td>\n",
       "      <td>48.835171</td>\n",
       "      <td>92.511294</td>\n",
       "    </tr>\n",
       "  </tbody>\n",
       "</table>\n",
       "</div>"
      ],
      "text/plain": [
       "         AM        CB       CNF    Binder  BinderType  Electrode Weight (mg)  \\\n",
       "0  0.770222  0.199721  0.000000  0.030057           1              10.816667   \n",
       "1  0.864363  0.000000  0.100045  0.035592           2              10.266667   \n",
       "2  0.950291  0.005541  0.000000  0.044168           2               9.386667   \n",
       "3  0.785186  0.038444  0.100006  0.076363           2              10.900000   \n",
       "4  0.842186  0.080548  0.046913  0.030353           1              10.100000   \n",
       "\n",
       "   Thickness (um)  Active Material Weight (mg)  Theoritical Capacity (mAh)  \\\n",
       "0       34.666667                     8.330997                    1.416269   \n",
       "1       34.333333                     8.874507                    1.508666   \n",
       "2       28.000000                     8.920149                    1.516425   \n",
       "3       37.666667                     8.558680                    1.454976   \n",
       "4       31.666667                     8.506220                    1.446057   \n",
       "\n",
       "   Porosity (%v)  Capacity (mAh/g_electrode)  \n",
       "0      48.988694                   72.323717  \n",
       "1      48.780666                   77.158070  \n",
       "2      46.293032                   47.540774  \n",
       "3      44.949558                   74.461161  \n",
       "4      48.835171                   92.511294  "
      ]
     },
     "execution_count": 2,
     "metadata": {},
     "output_type": "execute_result"
    }
   ],
   "source": [
    "data = pd.read_excel('../../fullParamLTO.xlsx')\n",
    "data.head()"
   ]
  },
  {
   "cell_type": "markdown",
   "metadata": {
    "slideshow": {
     "slide_type": "slide"
    }
   },
   "source": [
    "With the pca_analysis in nVision, we can do the pca analysis to the original data. We can obtain the newdata projected to each calculated compontent (corresponding to each colomn in the obtained dataset). The components are sorted by the varience explained each component. "
   ]
  },
  {
   "cell_type": "code",
   "execution_count": 3,
   "metadata": {
    "slideshow": {
     "slide_type": "fragment"
    }
   },
   "outputs": [
    {
     "data": {
      "text/html": [
       "<div>\n",
       "<style scoped>\n",
       "    .dataframe tbody tr th:only-of-type {\n",
       "        vertical-align: middle;\n",
       "    }\n",
       "\n",
       "    .dataframe tbody tr th {\n",
       "        vertical-align: top;\n",
       "    }\n",
       "\n",
       "    .dataframe thead th {\n",
       "        text-align: right;\n",
       "    }\n",
       "</style>\n",
       "<table border=\"1\" class=\"dataframe\">\n",
       "  <thead>\n",
       "    <tr style=\"text-align: right;\">\n",
       "      <th></th>\n",
       "      <th>0</th>\n",
       "      <th>1</th>\n",
       "      <th>2</th>\n",
       "      <th>3</th>\n",
       "      <th>4</th>\n",
       "      <th>5</th>\n",
       "      <th>6</th>\n",
       "      <th>7</th>\n",
       "      <th>8</th>\n",
       "      <th>9</th>\n",
       "      <th>10</th>\n",
       "    </tr>\n",
       "  </thead>\n",
       "  <tbody>\n",
       "    <tr>\n",
       "      <th>0</th>\n",
       "      <td>-2.197759</td>\n",
       "      <td>0.609337</td>\n",
       "      <td>-0.550714</td>\n",
       "      <td>2.450127</td>\n",
       "      <td>-0.825455</td>\n",
       "      <td>0.810025</td>\n",
       "      <td>-0.870637</td>\n",
       "      <td>0.102023</td>\n",
       "      <td>-0.038233</td>\n",
       "      <td>-0.024571</td>\n",
       "      <td>-2.922245e-15</td>\n",
       "    </tr>\n",
       "    <tr>\n",
       "      <th>1</th>\n",
       "      <td>0.915385</td>\n",
       "      <td>-0.783022</td>\n",
       "      <td>2.570128</td>\n",
       "      <td>-0.519887</td>\n",
       "      <td>0.647227</td>\n",
       "      <td>-0.829464</td>\n",
       "      <td>0.131374</td>\n",
       "      <td>0.012304</td>\n",
       "      <td>0.033630</td>\n",
       "      <td>0.110904</td>\n",
       "      <td>1.474921e-16</td>\n",
       "    </tr>\n",
       "    <tr>\n",
       "      <th>2</th>\n",
       "      <td>2.173233</td>\n",
       "      <td>-1.991436</td>\n",
       "      <td>0.826539</td>\n",
       "      <td>-0.133919</td>\n",
       "      <td>0.993362</td>\n",
       "      <td>1.452476</td>\n",
       "      <td>-0.645838</td>\n",
       "      <td>0.147234</td>\n",
       "      <td>-0.005751</td>\n",
       "      <td>-0.012801</td>\n",
       "      <td>3.576606e-16</td>\n",
       "    </tr>\n",
       "    <tr>\n",
       "      <th>3</th>\n",
       "      <td>-0.512684</td>\n",
       "      <td>0.777225</td>\n",
       "      <td>1.398643</td>\n",
       "      <td>-0.395159</td>\n",
       "      <td>0.817335</td>\n",
       "      <td>-1.124040</td>\n",
       "      <td>0.497979</td>\n",
       "      <td>-0.096558</td>\n",
       "      <td>0.023936</td>\n",
       "      <td>0.038389</td>\n",
       "      <td>1.349827e-15</td>\n",
       "    </tr>\n",
       "    <tr>\n",
       "      <th>4</th>\n",
       "      <td>-1.027219</td>\n",
       "      <td>-0.965157</td>\n",
       "      <td>0.547004</td>\n",
       "      <td>0.578639</td>\n",
       "      <td>-1.125027</td>\n",
       "      <td>-0.209952</td>\n",
       "      <td>-0.315385</td>\n",
       "      <td>0.072329</td>\n",
       "      <td>-0.021045</td>\n",
       "      <td>0.041778</td>\n",
       "      <td>5.336599e-15</td>\n",
       "    </tr>\n",
       "  </tbody>\n",
       "</table>\n",
       "</div>"
      ],
      "text/plain": [
       "         0         1         2         3         4         5         6   \\\n",
       "0 -2.197759  0.609337 -0.550714  2.450127 -0.825455  0.810025 -0.870637   \n",
       "1  0.915385 -0.783022  2.570128 -0.519887  0.647227 -0.829464  0.131374   \n",
       "2  2.173233 -1.991436  0.826539 -0.133919  0.993362  1.452476 -0.645838   \n",
       "3 -0.512684  0.777225  1.398643 -0.395159  0.817335 -1.124040  0.497979   \n",
       "4 -1.027219 -0.965157  0.547004  0.578639 -1.125027 -0.209952 -0.315385   \n",
       "\n",
       "         7         8         9             10  \n",
       "0  0.102023 -0.038233 -0.024571 -2.922245e-15  \n",
       "1  0.012304  0.033630  0.110904  1.474921e-16  \n",
       "2  0.147234 -0.005751 -0.012801  3.576606e-16  \n",
       "3 -0.096558  0.023936  0.038389  1.349827e-15  \n",
       "4  0.072329 -0.021045  0.041778  5.336599e-15  "
      ]
     },
     "execution_count": 3,
     "metadata": {},
     "output_type": "execute_result"
    }
   ],
   "source": [
    "newdata, model, comps = pca.pca_analysis(data)\n",
    "newdata.head()"
   ]
  },
  {
   "cell_type": "markdown",
   "metadata": {
    "slideshow": {
     "slide_type": "slide"
    }
   },
   "source": [
    "The outout variable comps gives the obtained components from the pca analysis. It describes how the original space (each row is associated with one original feature in the same order as in the original dataset) is projected to the new feature space. "
   ]
  },
  {
   "cell_type": "code",
   "execution_count": 4,
   "metadata": {
    "slideshow": {
     "slide_type": "subslide"
    }
   },
   "outputs": [
    {
     "data": {
      "text/html": [
       "<div>\n",
       "<style scoped>\n",
       "    .dataframe tbody tr th:only-of-type {\n",
       "        vertical-align: middle;\n",
       "    }\n",
       "\n",
       "    .dataframe tbody tr th {\n",
       "        vertical-align: top;\n",
       "    }\n",
       "\n",
       "    .dataframe thead th {\n",
       "        text-align: right;\n",
       "    }\n",
       "</style>\n",
       "<table border=\"1\" class=\"dataframe\">\n",
       "  <thead>\n",
       "    <tr style=\"text-align: right;\">\n",
       "      <th></th>\n",
       "      <th>0</th>\n",
       "      <th>1</th>\n",
       "      <th>2</th>\n",
       "      <th>3</th>\n",
       "      <th>4</th>\n",
       "      <th>5</th>\n",
       "      <th>6</th>\n",
       "      <th>7</th>\n",
       "      <th>8</th>\n",
       "      <th>9</th>\n",
       "      <th>10</th>\n",
       "    </tr>\n",
       "  </thead>\n",
       "  <tbody>\n",
       "    <tr>\n",
       "      <th>0</th>\n",
       "      <td>0.210040</td>\n",
       "      <td>-0.290346</td>\n",
       "      <td>-0.119899</td>\n",
       "      <td>0.125441</td>\n",
       "      <td>2.380823e-01</td>\n",
       "      <td>-5.688890e-02</td>\n",
       "      <td>-4.677872e-01</td>\n",
       "      <td>4.073004e-01</td>\n",
       "      <td>3.702607e-01</td>\n",
       "      <td>4.491838e-01</td>\n",
       "      <td>-2.407779e-01</td>\n",
       "    </tr>\n",
       "    <tr>\n",
       "      <th>1</th>\n",
       "      <td>-0.533591</td>\n",
       "      <td>0.199682</td>\n",
       "      <td>0.181959</td>\n",
       "      <td>0.395727</td>\n",
       "      <td>-1.229058e-02</td>\n",
       "      <td>5.422993e-01</td>\n",
       "      <td>-4.292633e-03</td>\n",
       "      <td>1.159154e-02</td>\n",
       "      <td>-7.086592e-03</td>\n",
       "      <td>1.657646e-01</td>\n",
       "      <td>-4.046951e-01</td>\n",
       "    </tr>\n",
       "    <tr>\n",
       "      <th>2</th>\n",
       "      <td>-0.026060</td>\n",
       "      <td>-0.005725</td>\n",
       "      <td>0.476840</td>\n",
       "      <td>-0.321845</td>\n",
       "      <td>-4.836331e-03</td>\n",
       "      <td>2.120526e-01</td>\n",
       "      <td>2.865297e-01</td>\n",
       "      <td>4.653781e-01</td>\n",
       "      <td>5.097648e-01</td>\n",
       "      <td>-2.209810e-01</td>\n",
       "      <td>1.263692e-01</td>\n",
       "    </tr>\n",
       "    <tr>\n",
       "      <th>3</th>\n",
       "      <td>-0.106115</td>\n",
       "      <td>0.699922</td>\n",
       "      <td>-0.312407</td>\n",
       "      <td>-0.415194</td>\n",
       "      <td>2.175554e-01</td>\n",
       "      <td>1.462486e-01</td>\n",
       "      <td>-1.895663e-01</td>\n",
       "      <td>9.256780e-02</td>\n",
       "      <td>4.421680e-02</td>\n",
       "      <td>2.444753e-01</td>\n",
       "      <td>2.322017e-01</td>\n",
       "    </tr>\n",
       "    <tr>\n",
       "      <th>4</th>\n",
       "      <td>0.042329</td>\n",
       "      <td>-0.009675</td>\n",
       "      <td>0.002791</td>\n",
       "      <td>-0.051720</td>\n",
       "      <td>8.708544e-01</td>\n",
       "      <td>-5.484380e-02</td>\n",
       "      <td>2.399892e-01</td>\n",
       "      <td>-7.508864e-02</td>\n",
       "      <td>-9.838544e-02</td>\n",
       "      <td>-2.490248e-01</td>\n",
       "      <td>-3.148181e-01</td>\n",
       "    </tr>\n",
       "    <tr>\n",
       "      <th>5</th>\n",
       "      <td>0.091567</td>\n",
       "      <td>0.139572</td>\n",
       "      <td>-0.679626</td>\n",
       "      <td>0.229087</td>\n",
       "      <td>-2.043211e-01</td>\n",
       "      <td>1.816213e-02</td>\n",
       "      <td>3.291003e-01</td>\n",
       "      <td>2.454420e-01</td>\n",
       "      <td>2.843821e-01</td>\n",
       "      <td>-3.300085e-01</td>\n",
       "      <td>-2.394967e-01</td>\n",
       "    </tr>\n",
       "    <tr>\n",
       "      <th>6</th>\n",
       "      <td>-0.116401</td>\n",
       "      <td>-0.172540</td>\n",
       "      <td>-0.144145</td>\n",
       "      <td>0.476570</td>\n",
       "      <td>2.957623e-01</td>\n",
       "      <td>2.080669e-01</td>\n",
       "      <td>5.839045e-02</td>\n",
       "      <td>1.850610e-01</td>\n",
       "      <td>-5.237954e-02</td>\n",
       "      <td>-3.019532e-02</td>\n",
       "      <td>7.326016e-01</td>\n",
       "    </tr>\n",
       "    <tr>\n",
       "      <th>7</th>\n",
       "      <td>0.135770</td>\n",
       "      <td>-0.047311</td>\n",
       "      <td>-0.005743</td>\n",
       "      <td>-0.135839</td>\n",
       "      <td>-8.961824e-02</td>\n",
       "      <td>1.523446e-01</td>\n",
       "      <td>-6.403074e-03</td>\n",
       "      <td>6.375927e-01</td>\n",
       "      <td>-7.104577e-01</td>\n",
       "      <td>-5.602639e-02</td>\n",
       "      <td>-1.230783e-01</td>\n",
       "    </tr>\n",
       "    <tr>\n",
       "      <th>8</th>\n",
       "      <td>0.320553</td>\n",
       "      <td>-0.189513</td>\n",
       "      <td>-0.117314</td>\n",
       "      <td>-0.151384</td>\n",
       "      <td>-1.256386e-02</td>\n",
       "      <td>3.698461e-01</td>\n",
       "      <td>5.678445e-01</td>\n",
       "      <td>-1.821317e-01</td>\n",
       "      <td>-2.999049e-02</td>\n",
       "      <td>5.754750e-01</td>\n",
       "      <td>4.049787e-03</td>\n",
       "    </tr>\n",
       "    <tr>\n",
       "      <th>9</th>\n",
       "      <td>-0.317307</td>\n",
       "      <td>0.176688</td>\n",
       "      <td>0.113151</td>\n",
       "      <td>0.164710</td>\n",
       "      <td>3.583631e-03</td>\n",
       "      <td>-6.555117e-01</td>\n",
       "      <td>4.139111e-01</td>\n",
       "      <td>2.626831e-01</td>\n",
       "      <td>-4.577656e-02</td>\n",
       "      <td>3.949862e-01</td>\n",
       "      <td>4.700883e-03</td>\n",
       "    </tr>\n",
       "    <tr>\n",
       "      <th>10</th>\n",
       "      <td>-0.643139</td>\n",
       "      <td>-0.516900</td>\n",
       "      <td>-0.343898</td>\n",
       "      <td>-0.448242</td>\n",
       "      <td>7.284253e-16</td>\n",
       "      <td>-3.590725e-15</td>\n",
       "      <td>-5.344733e-15</td>\n",
       "      <td>2.860598e-15</td>\n",
       "      <td>-1.083276e-15</td>\n",
       "      <td>-5.311491e-15</td>\n",
       "      <td>9.455166e-16</td>\n",
       "    </tr>\n",
       "  </tbody>\n",
       "</table>\n",
       "</div>"
      ],
      "text/plain": [
       "          0         1         2         3             4             5   \\\n",
       "0   0.210040 -0.290346 -0.119899  0.125441  2.380823e-01 -5.688890e-02   \n",
       "1  -0.533591  0.199682  0.181959  0.395727 -1.229058e-02  5.422993e-01   \n",
       "2  -0.026060 -0.005725  0.476840 -0.321845 -4.836331e-03  2.120526e-01   \n",
       "3  -0.106115  0.699922 -0.312407 -0.415194  2.175554e-01  1.462486e-01   \n",
       "4   0.042329 -0.009675  0.002791 -0.051720  8.708544e-01 -5.484380e-02   \n",
       "5   0.091567  0.139572 -0.679626  0.229087 -2.043211e-01  1.816213e-02   \n",
       "6  -0.116401 -0.172540 -0.144145  0.476570  2.957623e-01  2.080669e-01   \n",
       "7   0.135770 -0.047311 -0.005743 -0.135839 -8.961824e-02  1.523446e-01   \n",
       "8   0.320553 -0.189513 -0.117314 -0.151384 -1.256386e-02  3.698461e-01   \n",
       "9  -0.317307  0.176688  0.113151  0.164710  3.583631e-03 -6.555117e-01   \n",
       "10 -0.643139 -0.516900 -0.343898 -0.448242  7.284253e-16 -3.590725e-15   \n",
       "\n",
       "              6             7             8             9             10  \n",
       "0  -4.677872e-01  4.073004e-01  3.702607e-01  4.491838e-01 -2.407779e-01  \n",
       "1  -4.292633e-03  1.159154e-02 -7.086592e-03  1.657646e-01 -4.046951e-01  \n",
       "2   2.865297e-01  4.653781e-01  5.097648e-01 -2.209810e-01  1.263692e-01  \n",
       "3  -1.895663e-01  9.256780e-02  4.421680e-02  2.444753e-01  2.322017e-01  \n",
       "4   2.399892e-01 -7.508864e-02 -9.838544e-02 -2.490248e-01 -3.148181e-01  \n",
       "5   3.291003e-01  2.454420e-01  2.843821e-01 -3.300085e-01 -2.394967e-01  \n",
       "6   5.839045e-02  1.850610e-01 -5.237954e-02 -3.019532e-02  7.326016e-01  \n",
       "7  -6.403074e-03  6.375927e-01 -7.104577e-01 -5.602639e-02 -1.230783e-01  \n",
       "8   5.678445e-01 -1.821317e-01 -2.999049e-02  5.754750e-01  4.049787e-03  \n",
       "9   4.139111e-01  2.626831e-01 -4.577656e-02  3.949862e-01  4.700883e-03  \n",
       "10 -5.344733e-15  2.860598e-15 -1.083276e-15 -5.311491e-15  9.455166e-16  "
      ]
     },
     "execution_count": 4,
     "metadata": {},
     "output_type": "execute_result"
    }
   ],
   "source": [
    "comps"
   ]
  },
  {
   "cell_type": "markdown",
   "metadata": {
    "slideshow": {
     "slide_type": "slide"
    }
   },
   "source": [
    "Here the feature 10 (Capacity) contributes most to the component 0 and feature 3 (Binder) contributes most to the component 1"
   ]
  },
  {
   "cell_type": "code",
   "execution_count": 5,
   "metadata": {
    "slideshow": {
     "slide_type": "fragment"
    }
   },
   "outputs": [
    {
     "data": {
      "text/plain": [
       "'Capacity (mAh/g_electrode)'"
      ]
     },
     "execution_count": 5,
     "metadata": {},
     "output_type": "execute_result"
    }
   ],
   "source": [
    "data.columns[10]"
   ]
  },
  {
   "cell_type": "code",
   "execution_count": 6,
   "metadata": {
    "slideshow": {
     "slide_type": "fragment"
    }
   },
   "outputs": [
    {
     "data": {
      "text/plain": [
       "'Binder'"
      ]
     },
     "execution_count": 6,
     "metadata": {},
     "output_type": "execute_result"
    }
   ],
   "source": [
    "data.columns[3]"
   ]
  },
  {
   "cell_type": "markdown",
   "metadata": {
    "slideshow": {
     "slide_type": "slide"
    }
   },
   "source": [
    "Through the cluster analysis we group the data into three clusters according to the first two components and plot in the 2D space against componenet 0 (x axis) and compontent 1 (y axis)."
   ]
  },
  {
   "cell_type": "code",
   "execution_count": 25,
   "metadata": {
    "slideshow": {
     "slide_type": "slide"
    }
   },
   "outputs": [
    {
     "data": {
      "text/plain": [
       "<matplotlib.collections.PathCollection at 0x1d45faed7b8>"
      ]
     },
     "execution_count": 25,
     "metadata": {},
     "output_type": "execute_result"
    },
    {
     "data": {
      "image/png": "[encoded data removed]",
      "text/plain": [
       "<Figure size 432x288 with 1 Axes>"
      ]
     },
     "metadata": {
      "needs_background": "light"
     },
     "output_type": "display_data"
    }
   ],
   "source": [
    "from sklearn.cluster import MiniBatchKMeans, KMeans\n",
    "from sklearn.metrics.pairwise import pairwise_distances_argmin\n",
    "from sklearn.datasets.samples_generator import make_blobs\n",
    "k_means = KMeans(init='k-means++', n_clusters=3, n_init=10)\n",
    "k_means.fit(newdata)\n",
    "plt.scatter(newdata[0], newdata[1], c=k_means.labels_)"
   ]
  },
  {
   "cell_type": "markdown",
   "metadata": {
    "slideshow": {
     "slide_type": "slide"
    }
   },
   "source": [
    "The datapoints distributed in three groups as in the plot. The purple and blue clustors are mainly differentiated from the yellow by the component 0, assossiated mostly with the capacity in real feature space. The purple and blue clusters are more differentiated by the component 1, where is mostly correlated to the binder."
   ]
  },
  {
   "cell_type": "code",
   "execution_count": null,
   "metadata": {},
   "outputs": [],
   "source": []
  }
 ],
 "metadata": {
  "kernelspec": {
   "display_name": "Python 3",
   "language": "python",
   "name": "python3"
  },
  "language_info": {
   "codemirror_mode": {
    "name": "ipython",
    "version": 3
   },
   "file_extension": ".py",
   "mimetype": "text/x-python",
   "name": "python",
   "nbconvert_exporter": "python",
   "pygments_lexer": "ipython3",
   "version": "3.7.3"
  }
 },
 "nbformat": 4,
 "nbformat_minor": 4
}
