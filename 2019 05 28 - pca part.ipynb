{
 "cells": [
  {
   "cell_type": "code",
   "execution_count": null,
   "metadata": {},
   "outputs": [],
   "source": [
    "scaler = preprocessing.StandardScaler().fit(data)\n",
    "\n",
    "data_s = scaler.transform(data)\n",
    "data_s = pd.DataFrame(data=data_s)\n",
    "\n",
    "pca = PCA(n_components=11)\n",
    "new_data= pca.fit(data_s).transform(data_s)\n",
    "new_data = pd.DataFrame(data=new_data)\n",
    "\n",
    "pca.explained_variance_ratio_\n",
    "pca_data = np.cumsum(pca.explained_variance_ratio_)\n",
    "\n",
    "components = pd.DataFrame(pca.components_)"
   ]
  },
  {
   "cell_type": "code",
   "execution_count": 1,
   "metadata": {},
   "outputs": [],
   "source": [
    "import numpy as np"
   ]
  },
  {
   "cell_type": "code",
   "execution_count": null,
   "metadata": {},
   "outputs": [],
   "source": [
    "np.mean()"
   ]
  }
 ],
 "metadata": {
  "kernelspec": {
   "display_name": "Python 3",
   "language": "python",
   "name": "python3"
  },
  "language_info": {
   "codemirror_mode": {
    "name": "ipython",
    "version": 3
   },
   "file_extension": ".py",
   "mimetype": "text/x-python",
   "name": "python",
   "nbconvert_exporter": "python",
   "pygments_lexer": "ipython3",
   "version": "3.7.0"
  }
 },
 "nbformat": 4,
 "nbformat_minor": 2
}
